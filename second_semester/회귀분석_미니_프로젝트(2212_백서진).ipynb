{
  "nbformat": 4,
  "nbformat_minor": 0,
  "metadata": {
    "colab": {
      "provenance": []
    },
    "kernelspec": {
      "name": "python3",
      "display_name": "Python 3"
    },
    "language_info": {
      "name": "python"
    }
  },
  "cells": [
    {
      "cell_type": "code",
      "execution_count": null,
      "metadata": {
        "id": "bvwA6B-P7alL"
      },
      "outputs": [],
      "source": [
        "# 데이터셋 찾아보기\n",
        "\n",
        "# https://velog.io/@sukong/%EC%A0%95%EB%A6%AC-%EB%8D%B0%EC%9D%B4%ED%84%B0%EC%85%8B-%EC%82%AC%EC%9D%B4%ED%8A%B8\n",
        "# 한국주택금융공사_주택금융관련 지수 - https://www.data.go.kr/data/3072325/fileData.do\n",
        "# 한국주택금융공사_주택담보노후연금보증 현황 - https://www.data.go.kr/data/3045814/fileData.do\n",
        "# ★ 한국주택금융공사_일반주택담보대출현황 - https://www.data.go.kr/data/15012873/fileData.do"
      ]
    },
    {
      "cell_type": "code",
      "source": [
        "# 한글 폰트 다운로드\n",
        "\n",
        "!sudo apt-get install -y fonts-nanum\n",
        "!sudo fc-cache -fv\n",
        "!rm ~/.cache/matplotlib -rf"
      ],
      "metadata": {
        "colab": {
          "base_uri": "https://localhost:8080/"
        },
        "id": "7MmibDiAAVjB",
        "outputId": "b2545571-0c8b-4557-ec19-3a3879c440e4"
      },
      "execution_count": 8,
      "outputs": [
        {
          "output_type": "stream",
          "name": "stdout",
          "text": [
            "Reading package lists... Done\n",
            "Building dependency tree... Done\n",
            "Reading state information... Done\n",
            "fonts-nanum is already the newest version (20200506-1).\n",
            "0 upgraded, 0 newly installed, 0 to remove and 18 not upgraded.\n",
            "/usr/share/fonts: caching, new cache contents: 0 fonts, 1 dirs\n",
            "/usr/share/fonts/truetype: caching, new cache contents: 0 fonts, 3 dirs\n",
            "/usr/share/fonts/truetype/humor-sans: caching, new cache contents: 1 fonts, 0 dirs\n",
            "/usr/share/fonts/truetype/liberation: caching, new cache contents: 16 fonts, 0 dirs\n",
            "/usr/share/fonts/truetype/nanum: caching, new cache contents: 12 fonts, 0 dirs\n",
            "/usr/local/share/fonts: caching, new cache contents: 0 fonts, 0 dirs\n",
            "/root/.local/share/fonts: skipping, no such directory\n",
            "/root/.fonts: skipping, no such directory\n",
            "/usr/share/fonts/truetype: skipping, looped directory detected\n",
            "/usr/share/fonts/truetype/humor-sans: skipping, looped directory detected\n",
            "/usr/share/fonts/truetype/liberation: skipping, looped directory detected\n",
            "/usr/share/fonts/truetype/nanum: skipping, looped directory detected\n",
            "/var/cache/fontconfig: cleaning cache directory\n",
            "/root/.cache/fontconfig: not cleaning non-existent cache directory\n",
            "/root/.fontconfig: not cleaning non-existent cache directory\n",
            "fc-cache: succeeded\n"
          ]
        }
      ]
    },
    {
      "cell_type": "code",
      "source": [
        "# 파일 불러오기\n",
        "\n",
        "from google.colab import files\n",
        "uploaded = files.upload()"
      ],
      "metadata": {
        "colab": {
          "base_uri": "https://localhost:8080/",
          "height": 76
        },
        "id": "k7p7ZMnW__-D",
        "outputId": "816d1d66-5e0f-421b-d798-c2cea064a2e2"
      },
      "execution_count": 46,
      "outputs": [
        {
          "output_type": "display_data",
          "data": {
            "text/plain": [
              "<IPython.core.display.HTML object>"
            ],
            "text/html": [
              "\n",
              "     <input type=\"file\" id=\"files-e92eb59e-2f0f-40f6-920a-1ec8d89552ef\" name=\"files[]\" multiple disabled\n",
              "        style=\"border:none\" />\n",
              "     <output id=\"result-e92eb59e-2f0f-40f6-920a-1ec8d89552ef\">\n",
              "      Upload widget is only available when the cell has been executed in the\n",
              "      current browser session. Please rerun this cell to enable.\n",
              "      </output>\n",
              "      <script>// Copyright 2017 Google LLC\n",
              "//\n",
              "// Licensed under the Apache License, Version 2.0 (the \"License\");\n",
              "// you may not use this file except in compliance with the License.\n",
              "// You may obtain a copy of the License at\n",
              "//\n",
              "//      http://www.apache.org/licenses/LICENSE-2.0\n",
              "//\n",
              "// Unless required by applicable law or agreed to in writing, software\n",
              "// distributed under the License is distributed on an \"AS IS\" BASIS,\n",
              "// WITHOUT WARRANTIES OR CONDITIONS OF ANY KIND, either express or implied.\n",
              "// See the License for the specific language governing permissions and\n",
              "// limitations under the License.\n",
              "\n",
              "/**\n",
              " * @fileoverview Helpers for google.colab Python module.\n",
              " */\n",
              "(function(scope) {\n",
              "function span(text, styleAttributes = {}) {\n",
              "  const element = document.createElement('span');\n",
              "  element.textContent = text;\n",
              "  for (const key of Object.keys(styleAttributes)) {\n",
              "    element.style[key] = styleAttributes[key];\n",
              "  }\n",
              "  return element;\n",
              "}\n",
              "\n",
              "// Max number of bytes which will be uploaded at a time.\n",
              "const MAX_PAYLOAD_SIZE = 100 * 1024;\n",
              "\n",
              "function _uploadFiles(inputId, outputId) {\n",
              "  const steps = uploadFilesStep(inputId, outputId);\n",
              "  const outputElement = document.getElementById(outputId);\n",
              "  // Cache steps on the outputElement to make it available for the next call\n",
              "  // to uploadFilesContinue from Python.\n",
              "  outputElement.steps = steps;\n",
              "\n",
              "  return _uploadFilesContinue(outputId);\n",
              "}\n",
              "\n",
              "// This is roughly an async generator (not supported in the browser yet),\n",
              "// where there are multiple asynchronous steps and the Python side is going\n",
              "// to poll for completion of each step.\n",
              "// This uses a Promise to block the python side on completion of each step,\n",
              "// then passes the result of the previous step as the input to the next step.\n",
              "function _uploadFilesContinue(outputId) {\n",
              "  const outputElement = document.getElementById(outputId);\n",
              "  const steps = outputElement.steps;\n",
              "\n",
              "  const next = steps.next(outputElement.lastPromiseValue);\n",
              "  return Promise.resolve(next.value.promise).then((value) => {\n",
              "    // Cache the last promise value to make it available to the next\n",
              "    // step of the generator.\n",
              "    outputElement.lastPromiseValue = value;\n",
              "    return next.value.response;\n",
              "  });\n",
              "}\n",
              "\n",
              "/**\n",
              " * Generator function which is called between each async step of the upload\n",
              " * process.\n",
              " * @param {string} inputId Element ID of the input file picker element.\n",
              " * @param {string} outputId Element ID of the output display.\n",
              " * @return {!Iterable<!Object>} Iterable of next steps.\n",
              " */\n",
              "function* uploadFilesStep(inputId, outputId) {\n",
              "  const inputElement = document.getElementById(inputId);\n",
              "  inputElement.disabled = false;\n",
              "\n",
              "  const outputElement = document.getElementById(outputId);\n",
              "  outputElement.innerHTML = '';\n",
              "\n",
              "  const pickedPromise = new Promise((resolve) => {\n",
              "    inputElement.addEventListener('change', (e) => {\n",
              "      resolve(e.target.files);\n",
              "    });\n",
              "  });\n",
              "\n",
              "  const cancel = document.createElement('button');\n",
              "  inputElement.parentElement.appendChild(cancel);\n",
              "  cancel.textContent = 'Cancel upload';\n",
              "  const cancelPromise = new Promise((resolve) => {\n",
              "    cancel.onclick = () => {\n",
              "      resolve(null);\n",
              "    };\n",
              "  });\n",
              "\n",
              "  // Wait for the user to pick the files.\n",
              "  const files = yield {\n",
              "    promise: Promise.race([pickedPromise, cancelPromise]),\n",
              "    response: {\n",
              "      action: 'starting',\n",
              "    }\n",
              "  };\n",
              "\n",
              "  cancel.remove();\n",
              "\n",
              "  // Disable the input element since further picks are not allowed.\n",
              "  inputElement.disabled = true;\n",
              "\n",
              "  if (!files) {\n",
              "    return {\n",
              "      response: {\n",
              "        action: 'complete',\n",
              "      }\n",
              "    };\n",
              "  }\n",
              "\n",
              "  for (const file of files) {\n",
              "    const li = document.createElement('li');\n",
              "    li.append(span(file.name, {fontWeight: 'bold'}));\n",
              "    li.append(span(\n",
              "        `(${file.type || 'n/a'}) - ${file.size} bytes, ` +\n",
              "        `last modified: ${\n",
              "            file.lastModifiedDate ? file.lastModifiedDate.toLocaleDateString() :\n",
              "                                    'n/a'} - `));\n",
              "    const percent = span('0% done');\n",
              "    li.appendChild(percent);\n",
              "\n",
              "    outputElement.appendChild(li);\n",
              "\n",
              "    const fileDataPromise = new Promise((resolve) => {\n",
              "      const reader = new FileReader();\n",
              "      reader.onload = (e) => {\n",
              "        resolve(e.target.result);\n",
              "      };\n",
              "      reader.readAsArrayBuffer(file);\n",
              "    });\n",
              "    // Wait for the data to be ready.\n",
              "    let fileData = yield {\n",
              "      promise: fileDataPromise,\n",
              "      response: {\n",
              "        action: 'continue',\n",
              "      }\n",
              "    };\n",
              "\n",
              "    // Use a chunked sending to avoid message size limits. See b/62115660.\n",
              "    let position = 0;\n",
              "    do {\n",
              "      const length = Math.min(fileData.byteLength - position, MAX_PAYLOAD_SIZE);\n",
              "      const chunk = new Uint8Array(fileData, position, length);\n",
              "      position += length;\n",
              "\n",
              "      const base64 = btoa(String.fromCharCode.apply(null, chunk));\n",
              "      yield {\n",
              "        response: {\n",
              "          action: 'append',\n",
              "          file: file.name,\n",
              "          data: base64,\n",
              "        },\n",
              "      };\n",
              "\n",
              "      let percentDone = fileData.byteLength === 0 ?\n",
              "          100 :\n",
              "          Math.round((position / fileData.byteLength) * 100);\n",
              "      percent.textContent = `${percentDone}% done`;\n",
              "\n",
              "    } while (position < fileData.byteLength);\n",
              "  }\n",
              "\n",
              "  // All done.\n",
              "  yield {\n",
              "    response: {\n",
              "      action: 'complete',\n",
              "    }\n",
              "  };\n",
              "}\n",
              "\n",
              "scope.google = scope.google || {};\n",
              "scope.google.colab = scope.google.colab || {};\n",
              "scope.google.colab._files = {\n",
              "  _uploadFiles,\n",
              "  _uploadFilesContinue,\n",
              "};\n",
              "})(self);\n",
              "</script> "
            ]
          },
          "metadata": {}
        },
        {
          "output_type": "stream",
          "name": "stdout",
          "text": [
            "Saving 한국주택금융공사_일반주택담보대출현황_20150101.csv to 한국주택금융공사_일반주택담보대출현황_20150101 (5).csv\n"
          ]
        }
      ]
    },
    {
      "cell_type": "code",
      "source": [
        "import pandas as pd\n",
        "\n",
        "# CSV 파일 경로 설정\n",
        "file_path = '한국주택금융공사_일반주택담보대출현황_20150101.csv'\n",
        "\n",
        "# CSV 파일 불러오기\n",
        "data = pd.read_csv(file_path, encoding='cp949')\n",
        "\n",
        "# 데이터 확인\n",
        "print(data)"
      ],
      "metadata": {
        "colab": {
          "base_uri": "https://localhost:8080/"
        },
        "id": "P79zjJh9_bSs",
        "outputId": "20d5110b-d0ec-4c54-bc9a-9442410328b1"
      },
      "execution_count": 47,
      "outputs": [
        {
          "output_type": "stream",
          "name": "stdout",
          "text": [
            "                구분  사례수(명)  매우 불만이다  불만이다  보통이다  만족한다  매우 만족한다    계   평균\n",
            "0               서울     266      1.5  13.2  56.0  27.1      2.3  100  3.2\n",
            "1               경기     422      4.3  11.8  49.1  31.3      3.6  100  3.2\n",
            "2              광역시     448      1.8   9.8  57.8  29.0      1.6  100  3.2\n",
            "3             지방도시     426      1.6  11.0  55.2  30.5      1.6  100  3.2\n",
            "4              20대      46      0.0  21.7  52.2  21.7      4.3  100  3.1\n",
            "5              30대     371      1.6   7.8  55.5  33.7      1.3  100  3.3\n",
            "6              40대     645      2.8  11.9  53.3  28.7      3.3  100  3.2\n",
            "7              50대     500      2.6  12.0  55.2  28.8      1.4  100  3.1\n",
            "8         221만원 미만     130      7.7  14.6  48.5  26.9      2.3  100  3.0\n",
            "9      221만원-340만원     279      2.2  10.0  62.7  24.4      0.7  100  3.1\n",
            "10     341만원-450만원     330      2.7  13.6  53.6  28.5      1.5  100  3.1\n",
            "11     451만원-620만원     400      1.3   9.7  50.5  35.8      2.8  100  3.3\n",
            "12        621만원 이상     423      1.7  10.6  55.1  29.3      3.3  100  3.2\n",
            "13             관리자     356      2.0  11.2  58.7  26.1      2.0  100  3.1\n",
            "14    전문가 및 관련 종사자     352      2.8  11.1  50.9  33.2      2.0  100  3.2\n",
            "15          사무 종사자     398      3.0  13.6  49.2  30.4      3.8  100  3.2\n",
            "16      서비스/판매 종사자     194      2.6   7.2  58.2  30.4      1.6  100  3.2\n",
            "17  기능원/기계조작/단순노무직     245      1.2  11.8  57.6  28.2      1.2  100  3.2\n",
            "18  농림어업 숙련 종사자/군인      17      0.0   0.0  70.6  29.4      0.0  100  3.3\n",
            "19              기혼    1418      2.3  11.2  54.2  30.0      2.3  100  3.2\n",
            "20              미혼     105      1.0  13.3  56.2  28.6      1.0  100  3.2\n",
            "21          그 외 기타      39      7.7   7.7  59.0  23.1      2.6  100  3.1\n",
            "22              소유    1562      2.4  11.3  54.4  29.7      2.2  100  3.2\n",
            "23        유주택 자가거주    1455      2.4  11.4  53.7  30.2      2.3  100  3.2\n",
            "24        유주택 임차거주     107      1.9   9.3  63.6  23.4      1.9  100  3.1\n"
          ]
        }
      ]
    },
    {
      "cell_type": "code",
      "source": [
        "import pandas as pd\n",
        "import numpy as np\n",
        "import matplotlib.pyplot as plt\n",
        "from sklearn.linear_model import LinearRegression\n",
        "from matplotlib import font_manager, rc\n",
        "\n",
        "# 한글 폰트 설정\n",
        "plt.rc('font', family='NanumBarunGothic')\n",
        "\n",
        "# 데이터 불러오기\n",
        "data = pd.read_csv(file_path, encoding='cp949')  # 데이터 파일 형식에 따라 인코딩 설정 필요할 수 있음\n",
        "\n",
        "# 독립변수와 종속변수 선택\n",
        "# x = data['기혼'].values.reshape(-1, 1)\n",
        "y = data['사례수(명)'].values\n",
        "\n",
        "# 선형 회귀 모델 생성\n",
        "model = LinearRegression()\n",
        "\n",
        "# 모델 학습\n",
        "model.fit(x, y)\n",
        "\n",
        "# 회귀선 생성\n",
        "x_range = np.linspace(x.min(), x.max(), 100)\n",
        "y_pred = model.predict(x_range.reshape(-1, 1))\n",
        "\n",
        "# 그래프 그리기\n",
        "plt.scatter(x, y, label='데이터')\n",
        "plt.plot(x_range, y_pred, color='red', label='회귀선')\n",
        "plt.xlabel('기혼')\n",
        "plt.ylabel('사례수(명)')\n",
        "plt.legend()\n",
        "plt.title('선형 회귀 분석')\n",
        "plt.show()\n",
        "\n",
        "# 회귀식 출력\n",
        "print(f'회귀식: 사례수(명) = {model.intercept_:.2f} + {model.coef_[0]:.2f} * 기혼')\n"
      ],
      "metadata": {
        "colab": {
          "base_uri": "https://localhost:8080/",
          "height": 489
        },
        "id": "aADTjBba_xOy",
        "outputId": "12aa415c-5713-4f73-d89f-60de7d714e73"
      },
      "execution_count": 50,
      "outputs": [
        {
          "output_type": "display_data",
          "data": {
            "text/plain": [
              "<Figure size 640x480 with 1 Axes>"
            ],
            "image/png": "[encoded data removed]"
          },
          "metadata": {}
        },
        {
          "output_type": "stream",
          "name": "stdout",
          "text": [
            "회귀식: 사례수(명) = -758.85 + 41.63 * 기혼\n"
          ]
        }
      ]
    }
  ]
}