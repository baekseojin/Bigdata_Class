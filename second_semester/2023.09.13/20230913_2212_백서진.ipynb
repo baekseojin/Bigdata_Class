{
  "nbformat": 4,
  "nbformat_minor": 0,
  "metadata": {
    "colab": {
      "provenance": []
    },
    "kernelspec": {
      "name": "python3",
      "display_name": "Python 3"
    },
    "language_info": {
      "name": "python"
    }
  },
  "cells": [
    {
      "cell_type": "code",
      "execution_count": 2,
      "metadata": {
        "colab": {
          "base_uri": "https://localhost:8080/"
        },
        "id": "QddgKb3Yf4yZ",
        "outputId": "ccd30ec2-6be0-4d25-913d-1e1374a924d3"
      },
      "outputs": [
        {
          "output_type": "stream",
          "name": "stdout",
          "text": [
            "평균 : 54.00\n",
            "분산 : 384.00\n",
            "표준편차 : 19.60\n"
          ]
        }
      ],
      "source": [
        "# [실습 1] 어느 반 학생들의 한 달간 독서 시간을 조사하여 나타낸 것이다. 분산과 표준편차를 구해서 출력하시오.\n",
        "\n",
        "import numpy as np\n",
        "classMark = np.array([10, 30, 50, 70, 90])\n",
        "frequency = np.array([1, 3, 9, 5, 2])\n",
        "avg = classMark.dot(frequency) / sum(frequency) # 평균\n",
        "variance = (((classMark-avg)**2).dot(frequency)) / sum(frequency) # 분산\n",
        "std = np.sqrt(variance) # 표준편차\n",
        "print('평균 : %.2f' %avg)\n",
        "print('분산 : %.2f' %variance)\n",
        "print('표준편차 : %.2f' %std)"
      ]
    }
  ]
}