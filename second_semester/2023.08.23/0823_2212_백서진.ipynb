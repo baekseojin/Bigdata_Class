{
  "nbformat": 4,
  "nbformat_minor": 0,
  "metadata": {
    "colab": {
      "provenance": []
    },
    "kernelspec": {
      "name": "python3",
      "display_name": "Python 3"
    },
    "language_info": {
      "name": "python"
    }
  },
  "cells": [
    {
      "cell_type": "code",
      "execution_count": 5,
      "metadata": {
        "colab": {
          "base_uri": "https://localhost:8080/"
        },
        "id": "rNstm8gaKUxw",
        "outputId": "de1bc1fa-ffff-404e-cf9c-983afa3d32a6"
      },
      "outputs": [
        {
          "output_type": "stream",
          "name": "stdout",
          "text": [
            "53.0\n"
          ]
        }
      ],
      "source": [
        "# 학생 10명의 줄넘기 횟수의 평균을 구하시오\n",
        "\n",
        "list = [31, 42, 23, 10, 198, 29, 98, 49, 38, 12]\n",
        "\n",
        "print( sum(list) / 10 )"
      ]
    },
    {
      "cell_type": "code",
      "source": [
        "# 학생 10명의 줄넘기 횟수의 평균을 구하시오 - 예시 정답\n",
        "\n",
        "import numpy as np\n",
        "data2 = np.array([31, 42, 23, 10, 198, 29, 98, 49, 38, 12])\n",
        "print('학생 %d명의 줄넘기 횟수의 평균 %.2f' %(len(data2), np.mean(data2)))"
      ],
      "metadata": {
        "colab": {
          "base_uri": "https://localhost:8080/"
        },
        "id": "wrMZaVfkLD7G",
        "outputId": "a8ac1217-d694-4f11-c6f1-c1956b20ce1a"
      },
      "execution_count": 4,
      "outputs": [
        {
          "output_type": "stream",
          "name": "stdout",
          "text": [
            "학생 10명의 줄넘기 횟수의 평균 53.00\n"
          ]
        }
      ]
    },
    {
      "cell_type": "code",
      "source": [
        "# 다음 데이터의 중간 값을 구하시오\n",
        "\n",
        "data1 = [1, 3, 6, 8, 15, 17, 17, 19, 19, 23]\n",
        "\n",
        "print(np.median(data1))"
      ],
      "metadata": {
        "colab": {
          "base_uri": "https://localhost:8080/"
        },
        "id": "MSQBNDphL9-Y",
        "outputId": "ad94db89-0f39-4052-e892-ecc56a570670"
      },
      "execution_count": 9,
      "outputs": [
        {
          "output_type": "stream",
          "name": "stdout",
          "text": [
            "16.0\n"
          ]
        }
      ]
    },
    {
      "cell_type": "code",
      "source": [
        "# 12명의 학생들이 좋아하는 스포츠가 다음과 같을 때, 최빈값을 구하시오.\n",
        "\n",
        "import numpy as np\n",
        "import pandas as pd\n",
        "data3 = ['농구', '야구', '축구', '배구', '축구', '야구', '축구', '농구', '탁구', '야구', '배드민턴', '야구']\n",
        "\n",
        "df = pd.DataFrame( {'sports': data3} )\n",
        "\n",
        "print(df)\n",
        "print(\"------------------------------------------------\")\n",
        "\n",
        "print(df.mode())"
      ],
      "metadata": {
        "colab": {
          "base_uri": "https://localhost:8080/"
        },
        "id": "rddcDzX8MoHT",
        "outputId": "8cbb5b9c-1e19-4b0e-ab56-647db91b8fd7"
      },
      "execution_count": 20,
      "outputs": [
        {
          "output_type": "stream",
          "name": "stdout",
          "text": [
            "   sports\n",
            "0      농구\n",
            "1      야구\n",
            "2      축구\n",
            "3      배구\n",
            "4      축구\n",
            "5      야구\n",
            "6      축구\n",
            "7      농구\n",
            "8      탁구\n",
            "9      야구\n",
            "10   배드민턴\n",
            "11     야구\n",
            "------------------------------------------------\n",
            "  sports\n",
            "0     야구\n"
          ]
        }
      ]
    },
    {
      "cell_type": "code",
      "source": [
        "# 줄넘기 횟수의 평균을 구하시오\n",
        "\n",
        "import numpy as np\n",
        "classMark = np.array([5, 15, 25, 35, 45])\n",
        "frequency = np.array([2, 5, 21, 15, 7])\n",
        "\n",
        "print('줄넘기 횟수 평균 : %.2f' %(classMark.dot(frequency) / sum(frequency)))"
      ],
      "metadata": {
        "colab": {
          "base_uri": "https://localhost:8080/"
        },
        "id": "QouLe_qSS-0L",
        "outputId": "b5b4c560-20b2-4015-9b4b-16c098c4ef42"
      },
      "execution_count": 22,
      "outputs": [
        {
          "output_type": "stream",
          "name": "stdout",
          "text": [
            "줄넘기 횟수 평균 : 29.00\n"
          ]
        }
      ]
    },
    {
      "cell_type": "code",
      "source": [
        "# 주사위를 랜덤하게 돌렸을 때, 표본크기가 몇 개일 때 기댓값 과 가까워지는지 시뮬레이션 해보자.\n",
        "\n",
        "dice = [1, 2, 3, 4, 5, 6]"
      ],
      "metadata": {
        "id": "FGpgJGRrS-5T"
      },
      "execution_count": null,
      "outputs": []
    }
  ]
}