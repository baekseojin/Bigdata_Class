{
  "nbformat": 4,
  "nbformat_minor": 0,
  "metadata": {
    "colab": {
      "provenance": []
    },
    "kernelspec": {
      "name": "python3",
      "display_name": "Python 3"
    },
    "language_info": {
      "name": "python"
    }
  },
  "cells": [
    {
      "cell_type": "code",
      "execution_count": 1,
      "metadata": {
        "colab": {
          "base_uri": "https://localhost:8080/"
        },
        "id": "DYgUZKGLXzJV",
        "outputId": "bdc88dd4-394e-4eab-f886-e9f4f3849dbb"
      },
      "outputs": [
        {
          "output_type": "stream",
          "name": "stdout",
          "text": [
            "[10, 30, 50]\n"
          ]
        }
      ],
      "source": [
        "# 1. 다음 코드의 출력 결과를 적으시오.\n",
        "L = [ data for data in range( 0, 100, 10 ) ]\n",
        "print( L [ 1:6:2 ] )\n",
        "\n",
        "# 출력 결과 : [10, 30, 50]"
      ]
    },
    {
      "cell_type": "code",
      "source": [
        "# 2. 다음 <소스>와 출력결과를 보고 빈칸 (가)에 들어갈 내용으로 옳은 것은?\n",
        "\n",
        "s ='''when you take off a mask, store it in a clean plastic bag.\n",
        "      You make sure it covers both your nose and mouth.'''\n",
        "    \n",
        "s = s.replace(',', '').replace('.', '')\n",
        "L = s.split()\n",
        "D={word:(가) for word in L}\n",
        "print(D)\n",
        "\n",
        "# (가)에 들어갈 내용 : 출력결과를 보았을 때 빈칸이었던 (가)에는 len(word)가 들어가면 된다"
      ],
      "metadata": {
        "colab": {
          "base_uri": "https://localhost:8080/"
        },
        "id": "uNCwP_WUYGkb",
        "outputId": "d19766de-0df9-4a99-8b24-12bfd8917ad0"
      },
      "execution_count": 3,
      "outputs": [
        {
          "output_type": "stream",
          "name": "stdout",
          "text": [
            "{'when': 4, 'you': 3, 'take': 4, 'off': 3, 'a': 1, 'mask': 4, 'store': 5, 'it': 2, 'in': 2, 'clean': 5, 'plastic': 7, 'bag': 3, 'You': 3, 'make': 4, 'sure': 4, 'covers': 6, 'both': 4, 'your': 4, 'nose': 4, 'and': 3, 'mouth': 5}\n"
          ]
        }
      ]
    },
    {
      "cell_type": "code",
      "source": [
        "# 3. 다음 소스의 실행 결과로 옳은 것은?\n",
        "\n",
        "Hp = ['010-1234-1234', '010-2213-9898', '010-3132-6123']\n",
        "D = [num.split('-')[1] for num in Hp]\n",
        "E = list(map(int, D))\n",
        "print(sum(E))\n",
        "\n",
        "# 출력 결과 : 6579"
      ],
      "metadata": {
        "colab": {
          "base_uri": "https://localhost:8080/"
        },
        "id": "3j8qL0pPZGsy",
        "outputId": "6c7cef3a-ee72-4d11-96f2-a3adffd2699b"
      },
      "execution_count": 7,
      "outputs": [
        {
          "output_type": "stream",
          "name": "stdout",
          "text": [
            "6579\n"
          ]
        }
      ]
    },
    {
      "cell_type": "code",
      "source": [
        "# 4. 문자열에서 모음('aeiou')철자의 개수를 파악하고자 한다. 모음 종류를 key로 하고 문자열에 등장하는 해당 모음의 개수를 value로 하는 딕셔너리(D)를 구성하는 소스에서 빈칸(가)에 들어갈 내용은?\n",
        "\n",
        "s = 'Great software is supported by great people'\n",
        "mo = 'aeiou'\n",
        "D = {mo[i]: s.count(mo[i]) for (가)}\n",
        "print(D)\n",
        "\n",
        "# (가)에 들어갈 내용 : i in range(5)"
      ],
      "metadata": {
        "colab": {
          "base_uri": "https://localhost:8080/"
        },
        "id": "pwzIaxr2ZyMW",
        "outputId": "773f3c29-4517-4709-9211-1fc0662ef83e"
      },
      "execution_count": 8,
      "outputs": [
        {
          "output_type": "stream",
          "name": "stdout",
          "text": [
            "{'a': 3, 'e': 6, 'i': 1, 'o': 3, 'u': 1}\n"
          ]
        }
      ]
    },
    {
      "cell_type": "code",
      "source": [
        "# 5. 입력되는 m='bca'일 경우의 출력이다. 빈칸 (가)의 출력내용을 순서대로 나열한 것으로 옳지 않은 것은?\n",
        "\n",
        "def myf(k):\n",
        "  return max(map(lambda x:x%2, k))\n",
        "\n",
        "D = {'a':len, 'b':sum, 'c':myf}\n",
        "\n",
        "m = input('a, b, c를 원하는 순서대로 입력(예: bca): ')\n",
        "\n",
        "for f in m:\n",
        "  print(D[f]([1,4,9]))\n",
        "  print(D[f]([x for x in range(0, 10, 3)]))\n",
        "\n",
        "# 출력결과\n",
        "# 18\n",
        "# 1\n",
        "# 1\n",
        "# 3\n",
        "# 4"
      ],
      "metadata": {
        "colab": {
          "base_uri": "https://localhost:8080/"
        },
        "id": "IEyPL0uncU93",
        "outputId": "c65a9ab8-2162-45e7-b39e-6600dac97244"
      },
      "execution_count": 9,
      "outputs": [
        {
          "output_type": "stream",
          "name": "stdout",
          "text": [
            "a, b, c를 원하는 순서대로 입력(예: bca): bca\n",
            "14\n",
            "18\n",
            "1\n",
            "1\n",
            "3\n",
            "4\n"
          ]
        }
      ]
    },
    {
      "cell_type": "code",
      "source": [
        "# 6. 다음 소스에서 'kim jeong kook'이 입력될 때의 출력(가)로 옳은 것은?\n",
        "\n",
        "L = list(map(len, (map(lambda a:a.capitalize(), input().split()))))\n",
        "print(L)\n",
        "\n",
        "# 출력 내용 : [3, 5, 4]"
      ],
      "metadata": {
        "colab": {
          "base_uri": "https://localhost:8080/"
        },
        "id": "LKMuqs4wc_6-",
        "outputId": "4fc28b3c-d764-422b-c716-e1625c026990"
      },
      "execution_count": 10,
      "outputs": [
        {
          "output_type": "stream",
          "name": "stdout",
          "text": [
            "kim jeong kook\n",
            "[3, 5, 4]\n"
          ]
        }
      ]
    },
    {
      "cell_type": "code",
      "source": [
        "# 7. 사용자가 정수를 입력하면, 그 정수에 숫자 3, 6, 9가 들어가 있으면 'True'를 들어가 있지 않으면 'False'를 출력하는 소스를 보고 빈칸 (가)에 공통으로 들어 갈 연산자를 고르시오.\n",
        "\n",
        "num = int(input())\n",
        "\n",
        "if(num<0 or num>99):\n",
        "  print('잘못 입력하셨습니다')\n",
        "else:\n",
        "  n1 = num(가)10\n",
        "  n2 = num // 10\n",
        "  if n1(가)3 == 0 or n2(가)3 == 0:\n",
        "    print('True')\n",
        "  else:\n",
        "    print('False')\n",
        "\n",
        "# (가)에 들어갈 연산자 : %"
      ],
      "metadata": {
        "id": "zthm8OQ_dhKV"
      },
      "execution_count": null,
      "outputs": []
    },
    {
      "cell_type": "code",
      "source": [
        "# 8. 삼각비를 이용해 원을 그리는 <소스>와 <실행결과>를 보고 빈칸 (가)에 들어갈 내용으로 알맞은 것을 고르시오.\n",
        "\n",
        "import matplotlib.pyplot as plt\n",
        "import numpy as np\n",
        "th = (가)\n",
        "x = np.cos(np.radians(th))\n",
        "y = np.sin(np.radians(th))\n",
        "plt.plot(x, y)\n",
        "plt.axis('equal')\n",
        "plt.show()\n",
        "\n",
        "# (가)에 들어갈 내용 : np.arange(360)"
      ],
      "metadata": {
        "id": "n0ymgz3Sd4Lg"
      },
      "execution_count": null,
      "outputs": []
    },
    {
      "cell_type": "code",
      "source": [
        "# 9. (가)에 들어 갈 알맞은 코드를 쓰시오. (단, 코드 사이에 빈칸이 없도록 작성하시오.)\n",
        "\n",
        "a = {}\n",
        "s = input()\n",
        "\n",
        "# (가)\n",
        "\n",
        "print(a)\n",
        "\n",
        "# 출력 결과 : \n",
        "# 홍길동:010-9780-6829\n",
        "# {'홍길동':'010-9780-6829'}\n",
        "\n",
        "# (가)에 들어갈 내용 : a[s.split(':')[0]] = s.split(':')[1]"
      ],
      "metadata": {
        "id": "Pj8gIUhPeP7q"
      },
      "execution_count": null,
      "outputs": []
    },
    {
      "cell_type": "code",
      "source": [
        "# 10. 다음 소스의 입력으로 정수 1, 4, 7, 9, 6이 차례로 주어졌을 때의 실행 결과는? \n",
        "\n",
        "import random\n",
        "nums = []\n",
        "for i in range(5):\n",
        "  nums.append(int(input()))\n",
        "print('%.2f' %( (sum(nums) - max(nums) -min(nums)) / 3))\n",
        "\n",
        "# 실행 결과 : 5.67"
      ],
      "metadata": {
        "colab": {
          "base_uri": "https://localhost:8080/",
          "height": 245
        },
        "id": "eNtl-J6Aeq4p",
        "outputId": "ced7c3ed-83e0-454a-b5f8-842105f6f043"
      },
      "execution_count": 12,
      "outputs": [
        {
          "name": "stdout",
          "output_type": "stream",
          "text": [
            "1, 4, 7, 9, 6\n"
          ]
        },
        {
          "output_type": "error",
          "ename": "ValueError",
          "evalue": "ignored",
          "traceback": [
            "\u001b[0;31m---------------------------------------------------------------------------\u001b[0m",
            "\u001b[0;31mValueError\u001b[0m                                Traceback (most recent call last)",
            "\u001b[0;32m<ipython-input-12-1c03cdf98166>\u001b[0m in \u001b[0;36m<cell line: 5>\u001b[0;34m()\u001b[0m\n\u001b[1;32m      4\u001b[0m \u001b[0mnums\u001b[0m \u001b[0;34m=\u001b[0m \u001b[0;34m[\u001b[0m\u001b[0;34m]\u001b[0m\u001b[0;34m\u001b[0m\u001b[0;34m\u001b[0m\u001b[0m\n\u001b[1;32m      5\u001b[0m \u001b[0;32mfor\u001b[0m \u001b[0mi\u001b[0m \u001b[0;32min\u001b[0m \u001b[0mrange\u001b[0m\u001b[0;34m(\u001b[0m\u001b[0;36m5\u001b[0m\u001b[0;34m)\u001b[0m\u001b[0;34m:\u001b[0m\u001b[0;34m\u001b[0m\u001b[0;34m\u001b[0m\u001b[0m\n\u001b[0;32m----> 6\u001b[0;31m   \u001b[0mnums\u001b[0m\u001b[0;34m.\u001b[0m\u001b[0mappend\u001b[0m\u001b[0;34m(\u001b[0m\u001b[0mint\u001b[0m\u001b[0;34m(\u001b[0m\u001b[0minput\u001b[0m\u001b[0;34m(\u001b[0m\u001b[0;34m)\u001b[0m\u001b[0;34m)\u001b[0m\u001b[0;34m)\u001b[0m\u001b[0;34m\u001b[0m\u001b[0;34m\u001b[0m\u001b[0m\n\u001b[0m\u001b[1;32m      7\u001b[0m \u001b[0mprint\u001b[0m\u001b[0;34m(\u001b[0m\u001b[0;34m'%.2f'\u001b[0m \u001b[0;34m%\u001b[0m\u001b[0;34m(\u001b[0m \u001b[0;34m(\u001b[0m\u001b[0msum\u001b[0m\u001b[0;34m(\u001b[0m\u001b[0mnums\u001b[0m\u001b[0;34m)\u001b[0m \u001b[0;34m-\u001b[0m \u001b[0mmax\u001b[0m\u001b[0;34m(\u001b[0m\u001b[0mnums\u001b[0m\u001b[0;34m)\u001b[0m \u001b[0;34m-\u001b[0m\u001b[0mmin\u001b[0m\u001b[0;34m(\u001b[0m\u001b[0mnums\u001b[0m\u001b[0;34m)\u001b[0m\u001b[0;34m)\u001b[0m \u001b[0;34m/\u001b[0m \u001b[0;36m3\u001b[0m\u001b[0;34m)\u001b[0m\u001b[0;34m)\u001b[0m\u001b[0;34m\u001b[0m\u001b[0;34m\u001b[0m\u001b[0m\n",
            "\u001b[0;31mValueError\u001b[0m: invalid literal for int() with base 10: '1, 4, 7, 9, 6'"
          ]
        }
      ]
    },
    {
      "cell_type": "code",
      "source": [
        "# (11, 12). 정수를 입력 받아 그 수만큼 별 계단을 출력하는 프로그램의 <소스>와 <실행결과>를 보고 빈 칸 (가)에 들어갈 코드로 알맞은 것을 고르시오.\n",
        "\n",
        "n = int(input())\n",
        "for i in range(n):\n",
        "  print(' ' * (가))\n",
        "  print('*' * (나))\n",
        "\n",
        "# (가)에 들어갈 소스코드 : i\n",
        "# (나)에 들어갈 소스코드 : n - i\n"
      ],
      "metadata": {
        "id": "esDnO5XafIqE"
      },
      "execution_count": null,
      "outputs": []
    },
    {
      "cell_type": "code",
      "source": [
        "# 13. 빈 칸 (가)에 알맞은 실행 결과를 고르시오.\n",
        "\n",
        "import random\n",
        "data = [random.randint(1, 100) for i in range(5)]\n",
        "print('정렬전 :', data)\n",
        "for i in range(len(data)):\n",
        "  minIndex = i\n",
        "  for j in range(i+1, len(data)):\n",
        "    if data[j] < data[minIndex]:\n",
        "      minIndex = j\n",
        "  data[i], data[minIndex] = data[minIndex], data[i]\n",
        "  print(i+1, '회전 :', data)\n",
        "\n",
        "# (가)에 알맞은 실행결과 : [15, 75, 75, 94, 88]"
      ],
      "metadata": {
        "colab": {
          "base_uri": "https://localhost:8080/"
        },
        "id": "J0ZOFuR5fgTG",
        "outputId": "6dcdea16-0a6f-41a5-dbe2-ff3d8986b7c9"
      },
      "execution_count": 13,
      "outputs": [
        {
          "output_type": "stream",
          "name": "stdout",
          "text": [
            "정렬전 : [5, 55, 93, 49, 10]\n",
            "1 회전 : [5, 55, 93, 49, 10]\n",
            "2 회전 : [5, 10, 93, 49, 55]\n",
            "3 회전 : [5, 10, 49, 93, 55]\n",
            "4 회전 : [5, 10, 49, 55, 93]\n",
            "5 회전 : [5, 10, 49, 55, 93]\n"
          ]
        }
      ]
    },
    {
      "cell_type": "code",
      "source": [
        "# (14~15). 웹페이지의 table 자료를 들고와 pandas의 데이터프레임으로 생성 후 정보를 출력하는 프로그램의 소스와 실행결과를 보고 빈 칸 (가)에 들어 갈 코드로 알맞은 것을 고르시오.\n",
        "import pandas as pd\n",
        "\n",
        "tables = pd.read_html('https://www.koreabaseball.com/Record/Player/HitterBasic/Basic1.aspx')\n",
        "tables[0].to_execl(\"KBO_타자기록.xlsx\")\n",
        "df = pd.DataFrame(tables[0], columns = ['순위', '선수명', '팀명', 'AVG'])\n",
        "print(df.info())\n",
        "print((가))\n",
        "mvp = df.loc[ (나).idxmax() ]\n",
        "last = df.loc[ (나).idxmin() ]\n",
        "print(mvp, last)\n",
        "\n",
        "# (가)에 들어갈 코드 : df.head()\n",
        "# (나)에 들어갈 코드 : df['AVG']"
      ],
      "metadata": {
        "id": "TaEL0TIUgJZj"
      },
      "execution_count": null,
      "outputs": []
    },
    {
      "cell_type": "code",
      "source": [
        "# 16. 다음 <소스>와 <실행결과>를 보고 (가)에 알맞은 코드를 고르시오.\n",
        "\n",
        "import numpy as np\n",
        "import pandas as pd\n",
        "import seaborn as sns\n",
        "\n",
        "df = sns.load_dataset('titanic')\n",
        "print(df.head())\n",
        "condition = (df['adult_male'] == True)\n",
        "print('='+80)\n",
        "print('성인 여성 나이 평균 : %.2f' %((가).mean()))\n",
        "\n",
        "# (가)에 알맞은 코드 : df.loc[condition, 'age']"
      ],
      "metadata": {
        "id": "hN49NR5pg7Fk"
      },
      "execution_count": null,
      "outputs": []
    }
  ]
}