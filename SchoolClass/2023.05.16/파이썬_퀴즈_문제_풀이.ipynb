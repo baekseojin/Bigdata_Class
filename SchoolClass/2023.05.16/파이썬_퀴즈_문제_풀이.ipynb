{
  "nbformat": 4,
  "nbformat_minor": 0,
  "metadata": {
    "colab": {
      "provenance": []
    },
    "kernelspec": {
      "name": "python3",
      "display_name": "Python 3"
    },
    "language_info": {
      "name": "python"
    }
  },
  "cells": [
    {
      "cell_type": "code",
      "source": [
        "# 정수 값을 하나 받아서 세제곱하는 함수\n",
        "\n",
        "print( ( lambda x:x**3 )( int(input()) ) )"
      ],
      "metadata": {
        "id": "5X0-f_zhSH-_"
      },
      "execution_count": null,
      "outputs": []
    },
    {
      "cell_type": "code",
      "source": [
        "# 반지름을 입력 받아 원의 넓이를 구하는 함수 (파이는 3.14)\n",
        "\n",
        "print((lambda r: r*r*3.14)(int(input())))"
      ],
      "metadata": {
        "colab": {
          "base_uri": "https://localhost:8080/"
        },
        "id": "ENEqxJLwSMGd",
        "outputId": "7cf44300-b0db-4148-c256-5bdf3bb624aa"
      },
      "execution_count": 5,
      "outputs": [
        {
          "output_type": "stream",
          "name": "stdout",
          "text": [
            "5\n",
            "78.5\n"
          ]
        }
      ]
    },
    {
      "cell_type": "code",
      "source": [
        "# *** 시험!!! ***filter에 들어가는 람다식은 true/false가 결과값으로 나오는 조건을 받아서 true의 결과값들만 결과로 나온다\n",
        "\n",
        "list(filter(lambda x : x<5, range(10)))"
      ],
      "metadata": {
        "colab": {
          "base_uri": "https://localhost:8080/"
        },
        "id": "5omdNKRrSeLN",
        "outputId": "8b24c987-0099-4a8b-e339-4eb575ecf2bb"
      },
      "execution_count": 6,
      "outputs": [
        {
          "output_type": "execute_result",
          "data": {
            "text/plain": [
              "[0, 1, 2, 3, 4]"
            ]
          },
          "metadata": {},
          "execution_count": 6
        }
      ]
    },
    {
      "cell_type": "code",
      "source": [
        "# 문장을 입력 받아 공백으로 구분되는 단어들의 첫자를 대문자로 바꾼 리스트를 구하는 함수\n",
        "\n",
        "print( list(map(lambda w : w.capitalize(), input().split())))"
      ],
      "metadata": {
        "colab": {
          "base_uri": "https://localhost:8080/"
        },
        "id": "jIrnQdS0T5AB",
        "outputId": "ec6b63e3-2fe3-4ebe-91f8-36c79dc02523"
      },
      "execution_count": 8,
      "outputs": [
        {
          "output_type": "stream",
          "name": "stdout",
          "text": [
            "hello world\n",
            "['Hello', 'World']\n"
          ]
        }
      ]
    },
    {
      "cell_type": "code",
      "source": [],
      "metadata": {
        "id": "RumcXaQzVcCt"
      },
      "execution_count": null,
      "outputs": []
    }
  ]
}